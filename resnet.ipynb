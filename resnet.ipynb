{
 "cells": [
  {
   "cell_type": "code",
   "execution_count": 1,
   "metadata": {},
   "outputs": [],
   "source": [
    "import torch\n",
    "import torch.nn as nn\n",
    "import torch.nn.functional as F\n",
    "from torchvision.transforms import ToTensor\n",
    "from torchvision import datasets, transforms\n",
    "from torch.utils.data import DataLoader, random_split\n",
    "import torch.optim as optim\n",
    "from tqdm.auto import tqdm"
   ]
  },
  {
   "cell_type": "code",
   "execution_count": 2,
   "metadata": {},
   "outputs": [],
   "source": [
    "device = \"cuda\" if torch.cuda.is_available() else \"cpu\""
   ]
  },
  {
   "cell_type": "markdown",
   "metadata": {},
   "source": [
    "### I used resnet50 architecture"
   ]
  },
  {
   "cell_type": "markdown",
   "metadata": {},
   "source": [
    "#### defined two classes to create residual blocks, the first one(IdentityBlock) do not use downsample to change the weight and height scale(in conv layer 1) and change the channel scale(in layer 3) but the other one(ConvBlock) does it"
   ]
  },
  {
   "cell_type": "code",
   "execution_count": 3,
   "metadata": {},
   "outputs": [],
   "source": [
    "class IdentiyBlock(nn.Module):\n",
    "    def __init__(self, in_channels, out_channels, kernel_size=3):\n",
    "        super(IdentiyBlock, self).__init__()\n",
    "\n",
    "        self.conv1 = nn.Conv2d(\n",
    "            in_channels=out_channels, out_channels=in_channels, stride=1, kernel_size=1)\n",
    "        self.conv2 = nn.Conv2d(in_channels=in_channels, out_channels=in_channels,\n",
    "                               kernel_size=kernel_size, stride=1, padding=kernel_size // 2)\n",
    "        self.conv3 = nn.Conv2d(\n",
    "            in_channels=in_channels, out_channels=out_channels, kernel_size=1, stride=1)\n",
    "        self.bn1 = nn.BatchNorm2d(in_channels)\n",
    "        self.bn2 = nn.BatchNorm2d(out_channels)\n",
    "        self.relu = nn.ReLU(inplace=True)\n",
    "        self.in_channels = in_channels\n",
    "\n",
    "    def forward(self, x):\n",
    "        identity = x\n",
    "        x = self.conv1(x)\n",
    "        x = self.bn1(x)\n",
    "        x = self.relu(x)\n",
    "\n",
    "        x = self.conv2(x)\n",
    "        x = self.bn1(x)\n",
    "        x = self.relu(x)\n",
    "\n",
    "        x = self.conv3(x)\n",
    "        x = self.bn2(x)\n",
    "        \n",
    "        x += identity\n",
    "        x = self.relu(x)\n",
    "\n",
    "        return x"
   ]
  },
  {
   "cell_type": "code",
   "execution_count": 4,
   "metadata": {},
   "outputs": [],
   "source": [
    "class ConvBlock(nn.Module):\n",
    "    def __init__(self, in_channels, out_channels,kernel_size = 3, downsample = None, stride = 1):\n",
    "        super(ConvBlock, self).__init__()\n",
    "\n",
    "        if in_channels == 64:\n",
    "            self.conv1 = nn.Conv2d(in_channels= in_channels, out_channels= in_channels, stride= stride, kernel_size= 1)\n",
    "        # first residual block has input channel the same as the current input channel, however the\n",
    "        # next one has input channel equal to half of the current channel   \n",
    "        else: \n",
    "            self.conv1 = nn.Conv2d(\n",
    "                in_channels=int(in_channels * 2), out_channels=in_channels, stride=stride, kernel_size=1)\n",
    "        self.conv2 = nn.Conv2d(in_channels= in_channels, out_channels= in_channels, kernel_size= kernel_size, stride = 1, padding= kernel_size // 2)\n",
    "        self.conv3 = nn.Conv2d(in_channels=in_channels, out_channels=out_channels, kernel_size= 1, stride = 1)\n",
    "        self.bn1 = nn.BatchNorm2d(in_channels)\n",
    "        self.bn2 = nn.BatchNorm2d(out_channels)\n",
    "        self.relu = nn.ReLU(inplace= True)\n",
    "        self.downsample = downsample\n",
    "        self.in_channels = in_channels\n",
    "\n",
    "    def forward(self, x):\n",
    "        identity = x\n",
    "        x = self.conv1(x)\n",
    "        x = self.bn1(x)\n",
    "        x = self.relu(x)\n",
    "\n",
    "        x = self.conv2(x)\n",
    "        x = self.bn1(x)\n",
    "        x = self.relu(x)\n",
    "\n",
    "        x = self.conv3(x)\n",
    "        x = self.bn2(x)\n",
    "        \n",
    "        if self.downsample is not None:\n",
    "            identity = self.downsample(identity)\n",
    "        x += identity\n",
    "        x = self.relu(x)\n",
    "\n",
    "        return x"
   ]
  },
  {
   "cell_type": "markdown",
   "metadata": {},
   "source": [
    "### because of lack of memory two residual block has been inactivated, if you make them work again, make sure that you have modified the input feature of classifier block"
   ]
  },
  {
   "cell_type": "code",
   "execution_count": 5,
   "metadata": {},
   "outputs": [],
   "source": [
    "class ResNet(nn.Module):\n",
    "    def __init__(self, multiplied, blocks, first_layer_channel, input_shape, num_classes=1000):\n",
    "        super(ResNet, self).__init__()\n",
    "        self.first_layer_channel = first_layer_channel\n",
    "        self.multiplied = multiplied\n",
    "        self.input_channel = input_shape[1]\n",
    "        self.conv1 = nn.Conv2d(in_channels= self.input_channel, out_channels= first_layer_channel, kernel_size=7, stride = 2, padding= 3)\n",
    "        self.bn = nn.BatchNorm2d(first_layer_channel)\n",
    "        self.relu = nn.ReLU(inplace= True)\n",
    "        self.maxpool = nn.MaxPool2d(kernel_size=3, stride= 2)\n",
    "        self.layer1 = self.make_layer(next(iter(blocks)), 1)\n",
    "        self.layer2 = self.make_layer(next(iter(blocks)), 2)\n",
    "        #self.layer3 = self.make_layer(next(iter(blocks)), 2)\n",
    "        #self.layer4 = self.make_layer(next(iter(blocks)), 2)\n",
    "        self.avgpool = nn.AdaptiveAvgPool2d((1, 1))\n",
    "        self.classifier = nn.Sequential(\n",
    "            nn.Flatten(),\n",
    "            nn.Linear(in_features= 512, out_features= num_classes)\n",
    "        )\n",
    "\n",
    "    def make_layer(self, block, stride=1):\n",
    "        #if stride!= 1 or self.first_layer_channel != int(self.first_layer_channel * self.multiplied):\n",
    "        #    downsample = nn.Sequential(\n",
    "        #        nn.Conv2d(in_channels=self.first_layer_channel, out_channels=int(\n",
    "        #            self.multiplied * self.first_layer_channel), kernel_size=1, stride=stride),\n",
    "        #        nn.BatchNorm2d(int(self.multiplied * self.first_layer_channel))\n",
    "        #    )\n",
    "        #\n",
    "        if self.first_layer_channel == 64:\n",
    "            downsample = nn.Sequential(\n",
    "                nn.Conv2d(in_channels= self.first_layer_channel, out_channels= int(self.multiplied * self.first_layer_channel), kernel_size= 1, stride= stride),\n",
    "                nn.BatchNorm2d(int(self.multiplied * self.first_layer_channel))\n",
    "            )\n",
    "        else:\n",
    "            downsample = nn.Sequential(\n",
    "                nn.Conv2d(in_channels=int(self.first_layer_channel * 2), out_channels=int(\n",
    "                    self.multiplied * self.first_layer_channel), kernel_size=1, stride=stride),\n",
    "                nn.BatchNorm2d(int(self.multiplied * self.first_layer_channel))\n",
    "            )\n",
    "        layers = []\n",
    "        layers.append(ConvBlock(in_channels= self.first_layer_channel, out_channels= int(self.multiplied * self.first_layer_channel), stride = stride, downsample= downsample))\n",
    "\n",
    "        for _ in range(block - 1):\n",
    "            layers.append(IdentiyBlock(in_channels= self.first_layer_channel, out_channels= int(self.first_layer_channel * self.multiplied)))\n",
    "\n",
    "        self.first_layer_channel = int(\n",
    "            self.first_layer_channel * (self.multiplied/2))\n",
    "        return nn.Sequential(*layers)\n",
    "    \n",
    "    def forward(self, x):\n",
    "        x = self.conv1(x)\n",
    "        x = self.maxpool(x)\n",
    "\n",
    "        x = self.layer1(x)\n",
    "        x = self.layer2(x)\n",
    "        #x = self.layer3(x)\n",
    "        #x = self.layer4(x)\n",
    "\n",
    "        x = self.avgpool(x)\n",
    "        x = self.classifier(x)\n",
    "\n",
    "        return x"
   ]
  },
  {
   "cell_type": "code",
   "execution_count": 6,
   "metadata": {},
   "outputs": [],
   "source": [
    "#class RearrangeTransform:\n",
    "#    def __call__(self, x):\n",
    "#        return x.permute(1, 2, 0)\n",
    "#\n",
    "#\n",
    "#transform = transforms.Compose([\n",
    "#    transforms.ToTensor(),\n",
    "#    RearrangeTransform()\n",
    "#])"
   ]
  },
  {
   "cell_type": "code",
   "execution_count": 7,
   "metadata": {},
   "outputs": [],
   "source": [
    "train_data = datasets.FashionMNIST(\n",
    "    root='', train=True, download=False, transform=ToTensor(), target_transform=None)\n",
    "test_data = datasets.FashionMNIST(\n",
    "    root='', train=False, download=False, transform=ToTensor())"
   ]
  },
  {
   "cell_type": "code",
   "execution_count": 8,
   "metadata": {},
   "outputs": [],
   "source": [
    "train_size = int(0.2 * len(train_data))\n",
    "val_size = len(train_data) - train_size\n",
    "\n",
    "\n",
    "train_dataset, val_dataset = random_split(train_data, [train_size, val_size])\n",
    "\n",
    "trainloader = DataLoader(train_dataset, batch_size=28,\n",
    "                         shuffle=True, num_workers=8)\n",
    "valloader = DataLoader(val_dataset, batch_size=28,\n",
    "                       shuffle=False, num_workers=8)"
   ]
  },
  {
   "cell_type": "code",
   "execution_count": 9,
   "metadata": {},
   "outputs": [],
   "source": [
    "#trainloader = DataLoader(train_data, batch_size=28, shuffle=True, num_workers=8)\n",
    "testloader = DataLoader(test_data, batch_size=28, shuffle=False, num_workers=8)"
   ]
  },
  {
   "cell_type": "code",
   "execution_count": 10,
   "metadata": {},
   "outputs": [],
   "source": [
    "model = ResNet(num_classes=10, input_shape=(28, 1, 28, 28),\n",
    "               first_layer_channel=64, multiplied=4, blocks=[3, 4, 6, 3])\n",
    "\n",
    "criterion = nn.CrossEntropyLoss()\n",
    "optimizer = optim.SGD(model.parameters(), lr=0.1,\n",
    "                      momentum=0.9, weight_decay=5e-4)"
   ]
  },
  {
   "cell_type": "code",
   "execution_count": 11,
   "metadata": {},
   "outputs": [
    {
     "data": {
      "application/vnd.jupyter.widget-view+json": {
       "model_id": "50d7691372b74426b365900479ef3601",
       "version_major": 2,
       "version_minor": 0
      },
      "text/plain": [
       "  0%|          | 0/3 [00:00<?, ?it/s]"
      ]
     },
     "metadata": {},
     "output_type": "display_data"
    },
    {
     "name": "stdout",
     "output_type": "stream",
     "text": [
      "Epoch: 0\n",
      "---------\n",
      "Train loss: 1.58876 | Train accuracy: 52.66%\n",
      "Test loss: 1.60184 | Test accuracy: 45.66%\n",
      "\n",
      "Epoch: 1\n",
      "---------\n",
      "Train loss: 0.94832 | Train accuracy: 62.38%\n",
      "Test loss: 0.75853 | Test accuracy: 70.41%\n",
      "\n",
      "Epoch: 2\n",
      "---------\n",
      "Train loss: 0.73779 | Train accuracy: 71.24%\n",
      "Test loss: 0.69923 | Test accuracy: 72.69%\n",
      "\n"
     ]
    }
   ],
   "source": [
    "from helper_function import train_step, test_step,  accuracy_fn\n",
    "\n",
    "epochs = 3\n",
    "for epoch in tqdm(range(epochs)):\n",
    "    print(f\"Epoch: {epoch}\\n---------\")\n",
    "    train_step(data_loader=trainloader,\n",
    "               model=model,\n",
    "               loss_fn=criterion,\n",
    "               optimizer=optimizer,\n",
    "               accuracy_fn=accuracy_fn,\n",
    "               device=device\n",
    "               )\n",
    "    test_step(data_loader=testloader,\n",
    "              model=model,\n",
    "              loss_fn=criterion,\n",
    "              accuracy_fn=accuracy_fn,\n",
    "              device=device\n",
    "              )"
   ]
  },
  {
   "cell_type": "code",
   "execution_count": null,
   "metadata": {},
   "outputs": [],
   "source": []
  }
 ],
 "metadata": {
  "kernelspec": {
   "display_name": "Python 3",
   "language": "python",
   "name": "python3"
  },
  "language_info": {
   "codemirror_mode": {
    "name": "ipython",
    "version": 3
   },
   "file_extension": ".py",
   "mimetype": "text/x-python",
   "name": "python",
   "nbconvert_exporter": "python",
   "pygments_lexer": "ipython3",
   "version": "3.10.6"
  },
  "orig_nbformat": 4
 },
 "nbformat": 4,
 "nbformat_minor": 2
}
